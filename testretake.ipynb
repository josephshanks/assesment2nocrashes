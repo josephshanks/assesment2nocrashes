{
 "cells": [
  {
   "cell_type": "code",
   "execution_count": 1,
   "metadata": {},
   "outputs": [
    {
     "data": {
      "text/plain": [
       "'5/12 probability for rolling a 7-12\\n+ 3/12 for remainder of even numbers under 7 equals a total prob of 8/12 or 66%'"
      ]
     },
     "execution_count": 1,
     "metadata": {},
     "output_type": "execute_result"
    }
   ],
   "source": [
    "#1 \n",
    "\n",
    "'''5/12 probability for rolling a 7-12\n",
    "+ 3/12 for remainder of even numbers under 7 equals a total prob of 8/12 or 66%'''\n"
   ]
  },
  {
   "cell_type": "code",
   "execution_count": 2,
   "metadata": {},
   "outputs": [],
   "source": [
    "#2 Realistically wouldnt of been able to answer within the alloted time. I will come back to this question for my own studies"
   ]
  },
  {
   "cell_type": "code",
   "execution_count": 26,
   "metadata": {},
   "outputs": [],
   "source": [
    "#3\n",
    "\n",
    "def pandas_query(df):\n",
    "    '''Returns a DataFrame containing the average size of each university\n",
    "    type ordered by average size in ascending order.\n",
    "\n",
    "    Function assumes the input DataFrame contains these columns:\n",
    "        name, address, Website, Type, Size\n",
    "\n",
    "    Parameters\n",
    "    ----------\n",
    "    df: Pandas DataFrame\n",
    "\n",
    "    Returns\n",
    "    -------\n",
    "    Pandas DataFrame\n",
    "    '''\n",
    "    df[df['Type']['Size'].mean()]"
   ]
  },
  {
   "cell_type": "code",
   "execution_count": 22,
   "metadata": {},
   "outputs": [],
   "source": [
    "#4\n",
    "import pandas as pd\n",
    "import numpy as np\n",
    "def df_to_numpy(df, y_column):\n",
    "    '''Convert the column defined y_column into a NumPy array (y) and\n",
    "    convert the rest of df into a 2 dimensional NumPy array (X).\n",
    "    Returns (X, y).\n",
    "\n",
    "    Parameters\n",
    "    ----------\n",
    "    df: Pandas DataFrame\n",
    "    y_column: string\n",
    "\n",
    "    Returns\n",
    "    -------\n",
    "    NumPy array, NumPy array\n",
    "\n",
    "    Example\n",
    "    -------\n",
    "    >>> df = pd.DataFrame([[1,3,5],[2,4,6]], columns = ['a','b','c'])\n",
    "    >>> df_to_numpy(df, 'c')\n",
    "    np.array([[1, 3], [2, 4]]), np.array([5, 6])\n",
    "    '''\n",
    "    x=df['c']\n",
    "    return df[['a','b']], np.array(x)\n",
    "    "
   ]
  },
  {
   "cell_type": "code",
   "execution_count": 24,
   "metadata": {},
   "outputs": [
    {
     "data": {
      "text/plain": [
       "(   a  b\n",
       " 0  1  3\n",
       " 1  2  4, array([5, 6]))"
      ]
     },
     "execution_count": 24,
     "metadata": {},
     "output_type": "execute_result"
    }
   ],
   "source": [
    "df = pd.DataFrame([[1,3,5],[2,4,6]], columns = ['a','b','c'])\n",
    "df_to_numpy(df, 'columns')"
   ]
  },
  {
   "cell_type": "code",
   "execution_count": 25,
   "metadata": {},
   "outputs": [],
   "source": [
    "#5\n",
    "\n",
    "def size_of_multiply(A, B):\n",
    "    '''If matrices A (dimensions m x n) and B (dimensions p x q) can be\n",
    "    multiplied (AB), returns the shape of the result of multiplying them.\n",
    "    Function DOES NOT perform the multiplication. If A and B cannot be\n",
    "    multiplied, returns None. (Use the shape function.)\n",
    "\n",
    "    Parameters\n",
    "    ----------\n",
    "    A, B: NumPy array, NumPy array\n",
    "\n",
    "    Returns\n",
    "    -------\n",
    "    (int, int) or None  \n",
    "    '''\n",
    "    C=B.transpose()\n",
    "    if A.shape() == C.shape():\n",
    "        return "
   ]
  },
  {
   "cell_type": "code",
   "execution_count": 28,
   "metadata": {},
   "outputs": [],
   "source": [
    "#10\n",
    "\n",
    "#To get a 95% interval, I could use the list above that contains 20 items. 95% of the 20 is 19 items. Therefor I can arange the list in order as if I am finding the median.\n",
    "#I could take out the median number and find the average there and "
   ]
  },
  {
   "cell_type": "code",
   "execution_count": 29,
   "metadata": {},
   "outputs": [
    {
     "data": {
      "text/plain": [
       "0.95"
      ]
     },
     "execution_count": 29,
     "metadata": {},
     "output_type": "execute_result"
    }
   ],
   "source": [
    "19/20"
   ]
  },
  {
   "cell_type": "code",
   "execution_count": null,
   "metadata": {},
   "outputs": [],
   "source": []
  }
 ],
 "metadata": {
  "kernelspec": {
   "display_name": "Python 3",
   "language": "python",
   "name": "python3"
  },
  "language_info": {
   "codemirror_mode": {
    "name": "ipython",
    "version": 3
   },
   "file_extension": ".py",
   "mimetype": "text/x-python",
   "name": "python",
   "nbconvert_exporter": "python",
   "pygments_lexer": "ipython3",
   "version": "3.7.4"
  }
 },
 "nbformat": 4,
 "nbformat_minor": 4
}
